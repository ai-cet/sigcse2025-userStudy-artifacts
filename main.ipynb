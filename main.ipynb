{
 "cells": [
  {
   "cell_type": "markdown",
   "metadata": {},
   "source": [
    "# 1. Imports"
   ]
  },
  {
   "cell_type": "code",
   "execution_count": 28,
   "metadata": {},
   "outputs": [],
   "source": [
    "import matplotlib.pyplot as plt\n",
    "import seaborn as sns\n",
    "import pandas as pd\n",
    "import numpy as np"
   ]
  },
  {
   "cell_type": "code",
   "execution_count": 29,
   "metadata": {},
   "outputs": [],
   "source": [
    "import warnings\n",
    "warnings.filterwarnings('ignore')"
   ]
  },
  {
   "cell_type": "code",
   "execution_count": 30,
   "metadata": {},
   "outputs": [],
   "source": [
    "import statsmodels.api as sm\n",
    "from statsmodels.formula.api import ols\n",
    "from statsmodels.stats.multicomp import pairwise_tukeyhsd"
   ]
  },
  {
   "cell_type": "markdown",
   "metadata": {},
   "source": [
    "# 2. Read data"
   ]
  },
  {
   "cell_type": "code",
   "execution_count": 31,
   "metadata": {},
   "outputs": [
    {
     "data": {
      "text/html": [
       "<div>\n",
       "<style scoped>\n",
       "    .dataframe tbody tr th:only-of-type {\n",
       "        vertical-align: middle;\n",
       "    }\n",
       "\n",
       "    .dataframe tbody tr th {\n",
       "        vertical-align: top;\n",
       "    }\n",
       "\n",
       "    .dataframe thead th {\n",
       "        text-align: right;\n",
       "    }\n",
       "</style>\n",
       "<table border=\"1\" class=\"dataframe\">\n",
       "  <thead>\n",
       "    <tr style=\"text-align: right;\">\n",
       "      <th></th>\n",
       "      <th>assignment_id</th>\n",
       "      <th>user_id</th>\n",
       "      <th>question_num</th>\n",
       "      <th>toolName</th>\n",
       "      <th>numEvaluation</th>\n",
       "      <th>timeTaken</th>\n",
       "      <th>score</th>\n",
       "    </tr>\n",
       "  </thead>\n",
       "  <tbody>\n",
       "    <tr>\n",
       "      <th>0</th>\n",
       "      <td>321233</td>\n",
       "      <td>96550495</td>\n",
       "      <td>1</td>\n",
       "      <td>No feedback requested</td>\n",
       "      <td>12</td>\n",
       "      <td>15.014867</td>\n",
       "      <td>30</td>\n",
       "    </tr>\n",
       "    <tr>\n",
       "      <th>1</th>\n",
       "      <td>320994</td>\n",
       "      <td>55948835</td>\n",
       "      <td>1</td>\n",
       "      <td>AI-Socrates</td>\n",
       "      <td>8</td>\n",
       "      <td>23.837567</td>\n",
       "      <td>30</td>\n",
       "    </tr>\n",
       "    <tr>\n",
       "      <th>2</th>\n",
       "      <td>320992</td>\n",
       "      <td>1464159</td>\n",
       "      <td>1</td>\n",
       "      <td>No feedback requested</td>\n",
       "      <td>4</td>\n",
       "      <td>52.849017</td>\n",
       "      <td>30</td>\n",
       "    </tr>\n",
       "    <tr>\n",
       "      <th>3</th>\n",
       "      <td>321323</td>\n",
       "      <td>11825285</td>\n",
       "      <td>1</td>\n",
       "      <td>No feedback requested</td>\n",
       "      <td>17</td>\n",
       "      <td>57.447117</td>\n",
       "      <td>30</td>\n",
       "    </tr>\n",
       "    <tr>\n",
       "      <th>4</th>\n",
       "      <td>321094</td>\n",
       "      <td>25317458</td>\n",
       "      <td>1</td>\n",
       "      <td>No feedback requested</td>\n",
       "      <td>4</td>\n",
       "      <td>41.686267</td>\n",
       "      <td>30</td>\n",
       "    </tr>\n",
       "  </tbody>\n",
       "</table>\n",
       "</div>"
      ],
      "text/plain": [
       "   assignment_id   user_id  question_num               toolName  \\\n",
       "0         321233  96550495             1  No feedback requested   \n",
       "1         320994  55948835             1            AI-Socrates   \n",
       "2         320992   1464159             1  No feedback requested   \n",
       "3         321323  11825285             1  No feedback requested   \n",
       "4         321094  25317458             1  No feedback requested   \n",
       "\n",
       "   numEvaluation  timeTaken  score  \n",
       "0             12  15.014867     30  \n",
       "1              8  23.837567     30  \n",
       "2              4  52.849017     30  \n",
       "3             17  57.447117     30  \n",
       "4              4  41.686267     30  "
      ]
     },
     "execution_count": 31,
     "metadata": {},
     "output_type": "execute_result"
    }
   ],
   "source": [
    "df_expGroups = pd.read_csv(\"data/experimentalGroups.csv\")\n",
    "\n",
    "df_expGroups.head()"
   ]
  },
  {
   "cell_type": "code",
   "execution_count": 32,
   "metadata": {},
   "outputs": [
    {
     "data": {
      "text/html": [
       "<div>\n",
       "<style scoped>\n",
       "    .dataframe tbody tr th:only-of-type {\n",
       "        vertical-align: middle;\n",
       "    }\n",
       "\n",
       "    .dataframe tbody tr th {\n",
       "        vertical-align: top;\n",
       "    }\n",
       "\n",
       "    .dataframe thead th {\n",
       "        text-align: right;\n",
       "    }\n",
       "</style>\n",
       "<table border=\"1\" class=\"dataframe\">\n",
       "  <thead>\n",
       "    <tr style=\"text-align: right;\">\n",
       "      <th></th>\n",
       "      <th>code_id</th>\n",
       "      <th>assignment_id</th>\n",
       "      <th>user_id</th>\n",
       "      <th>question_num</th>\n",
       "      <th>toolName</th>\n",
       "      <th>query</th>\n",
       "      <th>TA Service Time</th>\n",
       "      <th>content</th>\n",
       "      <th>testcases</th>\n",
       "    </tr>\n",
       "  </thead>\n",
       "  <tbody>\n",
       "    <tr>\n",
       "      <th>0</th>\n",
       "      <td>10043442</td>\n",
       "      <td>320994</td>\n",
       "      <td>55948835</td>\n",
       "      <td>1</td>\n",
       "      <td>AI-Socrates</td>\n",
       "      <td></td>\n",
       "      <td>0.238817</td>\n",
       "      <td>#include &lt;stdio.h&gt;\\r\\n#include &lt;stdlib.h&gt;\\r\\n\\...</td>\n",
       "      <td>[{'index': '77062', 'input': '2\\n4 0\\n4 2', 'o...</td>\n",
       "    </tr>\n",
       "    <tr>\n",
       "      <th>1</th>\n",
       "      <td>10044232</td>\n",
       "      <td>321318</td>\n",
       "      <td>87567466</td>\n",
       "      <td>1</td>\n",
       "      <td>AI-Default</td>\n",
       "      <td>i am not getting what is error in this code ?</td>\n",
       "      <td>0.092000</td>\n",
       "      <td>#include &lt;stdio.h&gt;\\r\\n#include &lt;stdlib.h&gt;\\r\\n\\...</td>\n",
       "      <td>[{'index': '77062', 'input': '2\\n4 0\\n4 2', 'o...</td>\n",
       "    </tr>\n",
       "    <tr>\n",
       "      <th>2</th>\n",
       "      <td>10045358</td>\n",
       "      <td>321252</td>\n",
       "      <td>95178244</td>\n",
       "      <td>1</td>\n",
       "      <td>AI-Socrates</td>\n",
       "      <td></td>\n",
       "      <td>0.101500</td>\n",
       "      <td>#include &lt;stdio.h&gt;\\r\\n#include &lt;stdlib.h&gt;\\r\\n\\...</td>\n",
       "      <td>[{'index': '77062', 'input': '2\\n4 0\\n4 2', 'o...</td>\n",
       "    </tr>\n",
       "    <tr>\n",
       "      <th>3</th>\n",
       "      <td>10045425</td>\n",
       "      <td>321245</td>\n",
       "      <td>76587747</td>\n",
       "      <td>1</td>\n",
       "      <td>AI-Socrates</td>\n",
       "      <td>this code for now is only trying to print the...</td>\n",
       "      <td>0.116850</td>\n",
       "      <td>#include &lt;stdio.h&gt;\\r\\n#include &lt;stdlib.h&gt;\\r\\n\\...</td>\n",
       "      <td>[{'index': '77062', 'input': '2\\n4 0\\n4 2', 'o...</td>\n",
       "    </tr>\n",
       "    <tr>\n",
       "      <th>4</th>\n",
       "      <td>10046660</td>\n",
       "      <td>320987</td>\n",
       "      <td>691325</td>\n",
       "      <td>1</td>\n",
       "      <td>AI-Default</td>\n",
       "      <td></td>\n",
       "      <td>0.170133</td>\n",
       "      <td>#include &lt;stdio.h&gt;\\r\\n#include &lt;stdlib.h&gt;\\r\\n\\...</td>\n",
       "      <td>[{'index': '77062', 'input': '2\\n4 0\\n4 2', 'o...</td>\n",
       "    </tr>\n",
       "  </tbody>\n",
       "</table>\n",
       "</div>"
      ],
      "text/plain": [
       "    code_id  assignment_id   user_id  question_num     toolName  \\\n",
       "0  10043442         320994  55948835             1  AI-Socrates   \n",
       "1  10044232         321318  87567466             1   AI-Default   \n",
       "2  10045358         321252  95178244             1  AI-Socrates   \n",
       "3  10045425         321245  76587747             1  AI-Socrates   \n",
       "4  10046660         320987    691325             1   AI-Default   \n",
       "\n",
       "                                               query  TA Service Time  \\\n",
       "0                                                            0.238817   \n",
       "1      i am not getting what is error in this code ?         0.092000   \n",
       "2                                                            0.101500   \n",
       "3   this code for now is only trying to print the...         0.116850   \n",
       "4                                                            0.170133   \n",
       "\n",
       "                                             content  \\\n",
       "0  #include <stdio.h>\\r\\n#include <stdlib.h>\\r\\n\\...   \n",
       "1  #include <stdio.h>\\r\\n#include <stdlib.h>\\r\\n\\...   \n",
       "2  #include <stdio.h>\\r\\n#include <stdlib.h>\\r\\n\\...   \n",
       "3  #include <stdio.h>\\r\\n#include <stdlib.h>\\r\\n\\...   \n",
       "4  #include <stdio.h>\\r\\n#include <stdlib.h>\\r\\n\\...   \n",
       "\n",
       "                                           testcases  \n",
       "0  [{'index': '77062', 'input': '2\\n4 0\\n4 2', 'o...  \n",
       "1  [{'index': '77062', 'input': '2\\n4 0\\n4 2', 'o...  \n",
       "2  [{'index': '77062', 'input': '2\\n4 0\\n4 2', 'o...  \n",
       "3  [{'index': '77062', 'input': '2\\n4 0\\n4 2', 'o...  \n",
       "4  [{'index': '77062', 'input': '2\\n4 0\\n4 2', 'o...  "
      ]
     },
     "execution_count": 32,
     "metadata": {},
     "output_type": "execute_result"
    }
   ],
   "source": [
    "df_requests = pd.read_csv(\"data/requests.csv\")\n",
    "df_requests.head()"
   ]
  },
  {
   "cell_type": "code",
   "execution_count": 33,
   "metadata": {},
   "outputs": [
    {
     "data": {
      "text/html": [
       "<div>\n",
       "<style scoped>\n",
       "    .dataframe tbody tr th:only-of-type {\n",
       "        vertical-align: middle;\n",
       "    }\n",
       "\n",
       "    .dataframe tbody tr th {\n",
       "        vertical-align: top;\n",
       "    }\n",
       "\n",
       "    .dataframe thead th {\n",
       "        text-align: right;\n",
       "    }\n",
       "</style>\n",
       "<table border=\"1\" class=\"dataframe\">\n",
       "  <thead>\n",
       "    <tr style=\"text-align: right;\">\n",
       "      <th></th>\n",
       "      <th>code_id</th>\n",
       "      <th>question_num</th>\n",
       "      <th>toolName</th>\n",
       "      <th>feedbackIndex</th>\n",
       "      <th>lineNum</th>\n",
       "      <th>feedback</th>\n",
       "    </tr>\n",
       "  </thead>\n",
       "  <tbody>\n",
       "    <tr>\n",
       "      <th>0</th>\n",
       "      <td>10088303</td>\n",
       "      <td>2</td>\n",
       "      <td>TA (AI-Default)</td>\n",
       "      <td>1</td>\n",
       "      <td>24</td>\n",
       "      <td>Consider the correct size for allocating memor...</td>\n",
       "    </tr>\n",
       "    <tr>\n",
       "      <th>1</th>\n",
       "      <td>10088303</td>\n",
       "      <td>2</td>\n",
       "      <td>TA (AI-Default)</td>\n",
       "      <td>2</td>\n",
       "      <td>29</td>\n",
       "      <td>Modify the input handling to correctly differe...</td>\n",
       "    </tr>\n",
       "    <tr>\n",
       "      <th>2</th>\n",
       "      <td>10088303</td>\n",
       "      <td>2</td>\n",
       "      <td>TA (AI-Default)</td>\n",
       "      <td>3</td>\n",
       "      <td>54</td>\n",
       "      <td>Ensure you are allocating the correct amount o...</td>\n",
       "    </tr>\n",
       "    <tr>\n",
       "      <th>3</th>\n",
       "      <td>10088303</td>\n",
       "      <td>2</td>\n",
       "      <td>TA (AI-Default)</td>\n",
       "      <td>4</td>\n",
       "      <td>66</td>\n",
       "      <td>Memory allocation here is unnecessary and may ...</td>\n",
       "    </tr>\n",
       "    <tr>\n",
       "      <th>4</th>\n",
       "      <td>10088303</td>\n",
       "      <td>2</td>\n",
       "      <td>TA (AI-Default)</td>\n",
       "      <td>5</td>\n",
       "      <td>77</td>\n",
       "      <td>The condition to check if the stack is empty s...</td>\n",
       "    </tr>\n",
       "  </tbody>\n",
       "</table>\n",
       "</div>"
      ],
      "text/plain": [
       "    code_id  question_num         toolName  feedbackIndex  lineNum  \\\n",
       "0  10088303             2  TA (AI-Default)              1       24   \n",
       "1  10088303             2  TA (AI-Default)              2       29   \n",
       "2  10088303             2  TA (AI-Default)              3       54   \n",
       "3  10088303             2  TA (AI-Default)              4       66   \n",
       "4  10088303             2  TA (AI-Default)              5       77   \n",
       "\n",
       "                                            feedback  \n",
       "0  Consider the correct size for allocating memor...  \n",
       "1  Modify the input handling to correctly differe...  \n",
       "2  Ensure you are allocating the correct amount o...  \n",
       "3  Memory allocation here is unnecessary and may ...  \n",
       "4  The condition to check if the stack is empty s...  "
      ]
     },
     "execution_count": 33,
     "metadata": {},
     "output_type": "execute_result"
    }
   ],
   "source": [
    "df_feedback = pd.read_csv(\"data/feedbacks.csv\")\n",
    "df_feedback.head()"
   ]
  },
  {
   "cell_type": "code",
   "execution_count": 34,
   "metadata": {},
   "outputs": [
    {
     "data": {
      "text/html": [
       "<div>\n",
       "<style scoped>\n",
       "    .dataframe tbody tr th:only-of-type {\n",
       "        vertical-align: middle;\n",
       "    }\n",
       "\n",
       "    .dataframe tbody tr th {\n",
       "        vertical-align: top;\n",
       "    }\n",
       "\n",
       "    .dataframe thead th {\n",
       "        text-align: right;\n",
       "    }\n",
       "</style>\n",
       "<table border=\"1\" class=\"dataframe\">\n",
       "  <thead>\n",
       "    <tr style=\"text-align: right;\">\n",
       "      <th></th>\n",
       "      <th>code_id</th>\n",
       "      <th>question_num</th>\n",
       "      <th>toolName</th>\n",
       "      <th>key</th>\n",
       "      <th>feedbackIndex</th>\n",
       "      <th>value</th>\n",
       "    </tr>\n",
       "  </thead>\n",
       "  <tbody>\n",
       "    <tr>\n",
       "      <th>0</th>\n",
       "      <td>10090983</td>\n",
       "      <td>1</td>\n",
       "      <td>AI-Default</td>\n",
       "      <td>speed</td>\n",
       "      <td>NaN</td>\n",
       "      <td>1</td>\n",
       "    </tr>\n",
       "    <tr>\n",
       "      <th>1</th>\n",
       "      <td>10090983</td>\n",
       "      <td>1</td>\n",
       "      <td>AI-Default</td>\n",
       "      <td>line</td>\n",
       "      <td>1.0</td>\n",
       "      <td>1</td>\n",
       "    </tr>\n",
       "    <tr>\n",
       "      <th>2</th>\n",
       "      <td>10090983</td>\n",
       "      <td>1</td>\n",
       "      <td>AI-Default</td>\n",
       "      <td>line</td>\n",
       "      <td>2.0</td>\n",
       "      <td>1</td>\n",
       "    </tr>\n",
       "    <tr>\n",
       "      <th>3</th>\n",
       "      <td>10090983</td>\n",
       "      <td>1</td>\n",
       "      <td>AI-Default</td>\n",
       "      <td>accurate</td>\n",
       "      <td>NaN</td>\n",
       "      <td>1</td>\n",
       "    </tr>\n",
       "    <tr>\n",
       "      <th>4</th>\n",
       "      <td>10090983</td>\n",
       "      <td>1</td>\n",
       "      <td>AI-Default</td>\n",
       "      <td>line</td>\n",
       "      <td>4.0</td>\n",
       "      <td>1</td>\n",
       "    </tr>\n",
       "  </tbody>\n",
       "</table>\n",
       "</div>"
      ],
      "text/plain": [
       "    code_id  question_num    toolName       key  feedbackIndex  value\n",
       "0  10090983             1  AI-Default     speed            NaN      1\n",
       "1  10090983             1  AI-Default      line            1.0      1\n",
       "2  10090983             1  AI-Default      line            2.0      1\n",
       "3  10090983             1  AI-Default  accurate            NaN      1\n",
       "4  10090983             1  AI-Default      line            4.0      1"
      ]
     },
     "execution_count": 34,
     "metadata": {},
     "output_type": "execute_result"
    }
   ],
   "source": [
    "df_ratings = pd.read_csv(\"data/feedbackRatings.csv\")\n",
    "df_ratings.head()"
   ]
  },
  {
   "cell_type": "markdown",
   "metadata": {},
   "source": [
    "# 3. Tables"
   ]
  },
  {
   "cell_type": "markdown",
   "metadata": {},
   "source": [
    "# 3.1 Table-1: Distribution of experimental groups"
   ]
  },
  {
   "cell_type": "code",
   "execution_count": 35,
   "metadata": {},
   "outputs": [
    {
     "data": {
      "text/html": [
       "<div>\n",
       "<style scoped>\n",
       "    .dataframe tbody tr th:only-of-type {\n",
       "        vertical-align: middle;\n",
       "    }\n",
       "\n",
       "    .dataframe tbody tr th {\n",
       "        vertical-align: top;\n",
       "    }\n",
       "\n",
       "    .dataframe thead th {\n",
       "        text-align: right;\n",
       "    }\n",
       "</style>\n",
       "<table border=\"1\" class=\"dataframe\">\n",
       "  <thead>\n",
       "    <tr style=\"text-align: right;\">\n",
       "      <th></th>\n",
       "      <th>question_num</th>\n",
       "      <th>toolName</th>\n",
       "      <th>number_of_students</th>\n",
       "      <th>full_marks_students</th>\n",
       "      <th>%Completion</th>\n",
       "      <th>number_of_requests</th>\n",
       "    </tr>\n",
       "  </thead>\n",
       "  <tbody>\n",
       "    <tr>\n",
       "      <th>0</th>\n",
       "      <td>1</td>\n",
       "      <td>AI-Default</td>\n",
       "      <td>23</td>\n",
       "      <td>19</td>\n",
       "      <td>82.6</td>\n",
       "      <td>44</td>\n",
       "    </tr>\n",
       "    <tr>\n",
       "      <th>1</th>\n",
       "      <td>1</td>\n",
       "      <td>AI-Socrates</td>\n",
       "      <td>23</td>\n",
       "      <td>18</td>\n",
       "      <td>78.3</td>\n",
       "      <td>49</td>\n",
       "    </tr>\n",
       "    <tr>\n",
       "      <th>2</th>\n",
       "      <td>1</td>\n",
       "      <td>No feedback requested</td>\n",
       "      <td>126</td>\n",
       "      <td>96</td>\n",
       "      <td>76.2</td>\n",
       "      <td>0</td>\n",
       "    </tr>\n",
       "    <tr>\n",
       "      <th>3</th>\n",
       "      <td>2</td>\n",
       "      <td>No feedback requested</td>\n",
       "      <td>130</td>\n",
       "      <td>73</td>\n",
       "      <td>56.2</td>\n",
       "      <td>0</td>\n",
       "    </tr>\n",
       "    <tr>\n",
       "      <th>4</th>\n",
       "      <td>2</td>\n",
       "      <td>TA (AI-Default)</td>\n",
       "      <td>5</td>\n",
       "      <td>2</td>\n",
       "      <td>40.0</td>\n",
       "      <td>7</td>\n",
       "    </tr>\n",
       "    <tr>\n",
       "      <th>5</th>\n",
       "      <td>2</td>\n",
       "      <td>TA (AI-Socrates)</td>\n",
       "      <td>11</td>\n",
       "      <td>4</td>\n",
       "      <td>36.4</td>\n",
       "      <td>15</td>\n",
       "    </tr>\n",
       "    <tr>\n",
       "      <th>6</th>\n",
       "      <td>2</td>\n",
       "      <td>TA (Manual)</td>\n",
       "      <td>13</td>\n",
       "      <td>5</td>\n",
       "      <td>38.5</td>\n",
       "      <td>17</td>\n",
       "    </tr>\n",
       "  </tbody>\n",
       "</table>\n",
       "</div>"
      ],
      "text/plain": [
       "   question_num               toolName  number_of_students  \\\n",
       "0             1             AI-Default                  23   \n",
       "1             1            AI-Socrates                  23   \n",
       "2             1  No feedback requested                 126   \n",
       "3             2  No feedback requested                 130   \n",
       "4             2        TA (AI-Default)                   5   \n",
       "5             2       TA (AI-Socrates)                  11   \n",
       "6             2            TA (Manual)                  13   \n",
       "\n",
       "   full_marks_students  %Completion  number_of_requests  \n",
       "0                   19         82.6                  44  \n",
       "1                   18         78.3                  49  \n",
       "2                   96         76.2                   0  \n",
       "3                   73         56.2                   0  \n",
       "4                    2         40.0                   7  \n",
       "5                    4         36.4                  15  \n",
       "6                    5         38.5                  17  "
      ]
     },
     "execution_count": 35,
     "metadata": {},
     "output_type": "execute_result"
    }
   ],
   "source": [
    "full_mark = 30\n",
    "\n",
    "# Group by `question_num` and `toolName`\n",
    "aggregation_result = df_expGroups.groupby(['question_num', 'toolName']).agg(\n",
    "    number_of_students=('user_id', 'nunique'),  # Count distinct students\n",
    "    full_marks_students=('user_id', lambda x: x[df_expGroups.loc[x.index, 'score'] == full_mark].nunique()) # Count distinct students with full marks\n",
    ").reset_index()\n",
    "\n",
    "aggregation_result['%Completion'] = round(100 * aggregation_result['full_marks_students'] / aggregation_result['number_of_students'], 1)\n",
    "aggregation_result['number_of_requests'] = [len(df_requests[df_requests['toolName'] == row['toolName']]) for i, row in aggregation_result.iterrows()]\n",
    "\n",
    "aggregation_result"
   ]
  },
  {
   "cell_type": "code",
   "execution_count": 36,
   "metadata": {},
   "outputs": [
    {
     "name": "stdout",
     "output_type": "stream",
     "text": [
      "TA (AI-Default): (Line-24) Consider the correct size for allocating memory to a node.\n",
      "AI-Default: (Line-21) Consider updating the direction based on the previous move's direction, not just the initial direction.\n",
      "TA (Manual): (Line-65) think about it..is this really correct?...you are moving top ahead while it should point to prev element (which is new top element after this pop)\n",
      "TA (AI-Socrates): (Line-45) Consider how scanf is used with strings. Do you need to use the '&' operator when reading a string into a character array?\n",
      "AI-Socrates: (Line-16) Consider how much memory you need to allocate for 'ans'. How does the size of 'struct posDir' compare to the size of 'struct posDir*'?\n"
     ]
    }
   ],
   "source": [
    "for toolName in df_feedback['toolName'].unique():\n",
    "    df_tool = df_feedback[df_feedback['toolName'] == toolName]\n",
    "    row = df_tool.iloc[0]\n",
    "    lineNum = row['lineNum']\n",
    "    feedback = row['feedback']\n",
    "    print(f'{toolName}: (Line-{lineNum}) {feedback}')    "
   ]
  },
  {
   "cell_type": "markdown",
   "metadata": {},
   "source": [
    "# 4. Figures"
   ]
  },
  {
   "cell_type": "code",
   "execution_count": 37,
   "metadata": {},
   "outputs": [],
   "source": [
    "color_map = {\n",
    "    'None': '#A9A9A9',\n",
    "    'AI(Default)': '#4DBEEE',\n",
    "    'AI(Socratic)': '#0072BD',\n",
    "    'TA-AI(Default)': '#82E0AA',\n",
    "    'TA-AI(Socratic)': '#196F3D',\n",
    "    'TA-Manual': '#F4D03F',\n",
    "}\n",
    "\n",
    "legend_mapping = {'No feedback requested': 'None', 'AI-Socrates': 'AI(Socratic)', 'AI-Default': 'AI(Default)', \n",
    "                      'TA (Manual)': 'TA-Manual', 'TA (AI-Socrates)': 'TA-AI(Socratic)', 'TA (AI-Default)': 'TA-AI(Default)'}"
   ]
  },
  {
   "cell_type": "code",
   "execution_count": 38,
   "metadata": {},
   "outputs": [],
   "source": [
    "\n",
    "def boxplot(df, x, ylabel, xlim, fig=None, axes=None, isSetTitle=True, isSetYlabel=True, isSetYTick=True):\n",
    "    # Rename toolName for better readability\n",
    "    df['Group'] = df['toolName'].replace(legend_mapping)\n",
    "\n",
    "    # Define color palette (you can use any color palette you prefer)\n",
    "    palette = color_map\n",
    "\n",
    "    # Create subplots\n",
    "    index = 1\n",
    "    if fig is None or axes is None:\n",
    "        fig, axes = plt.subplots(1, 2, figsize=(3.25 * 2, 2.5))  # Adjust figsize as needed\n",
    "        index = 0\n",
    "\n",
    "    question_num = (index + 1)\n",
    "\n",
    "    # Plot boxplots for each question number\n",
    "    ax = axes[index]\n",
    "    sns.boxplot(y=\"Group\", legend=False, x=x, data=df, palette=palette, ax=ax, medianprops=None) #dict(color=\"black\", alpha=0.7),)\n",
    "\n",
    "    if isSetTitle:\n",
    "        ax.set_title(f'Question Q{question_num}')        \n",
    "    if index == 0 and isSetYlabel:\n",
    "        ax.set_ylabel('Group')    \n",
    "    else:\n",
    "        ax.set_ylabel('')  # Clear ylabel for the second subplot\n",
    "\n",
    "    if not isSetYTick:\n",
    "        ax.tick_params(axis='y', which='both', left=False, right=False, labelleft=False, labelright=False)\n",
    "    ax.set_xlabel(ylabel)\n",
    "    # ax.set_xticklabels(ax.get_xticklabels(), rotation=90, ha='right')  # Rotate x-axis labels for better readability\n",
    "\n",
    "    # ax.set_xticks(ax.get_xticks().tolist() + [0, xlim])\n",
    "    # ax.set_xticks(sorted(set(ax.get_xticks())))\n",
    "    ax.set_xlim(left=0)  # Remove negative x-ticks\n",
    "    plt.xlim(0, xlim)\n",
    "\n",
    "    # Set font sizes\n",
    "    plt.rc('axes', titlesize=12)     # Title font size\n",
    "    plt.rc('axes', labelsize=10)     # Axis labels font size\n",
    "    plt.rc('xtick', labelsize=10)     # X-tick labels font size\n",
    "    plt.rc('ytick', labelsize=10)     # Y-tick labels font size\n",
    "    plt.rc('legend', fontsize=10)     # Legend font size\n",
    "\n",
    "    # Adjust layout\n",
    "    fig.tight_layout()\n",
    "\n",
    "    return fig, axes"
   ]
  },
  {
   "cell_type": "code",
   "execution_count": 39,
   "metadata": {},
   "outputs": [],
   "source": [
    "def colplots(df, order=[]):\n",
    "    # Get unique question numbers\n",
    "    question_nums = df['question_num'].unique()\n",
    "\n",
    "    # Rename toolName for better readability\n",
    "    df['Group'] = df['toolName'].replace(legend_mapping)\n",
    "\n",
    "    # Define color palette (you can use any color palette you prefer)\n",
    "    palette = color_map\n",
    "\n",
    "    # Create subplots\n",
    "    num_questions = len(question_nums)\n",
    "    fig, axes = plt.subplots(1, num_questions, figsize=(3.25 * num_questions, 2.5), sharey=True)  # Adjust figsize as needed\n",
    "    if type(axes) != np.ndarray:\n",
    "        axes = [axes]\n",
    "\n",
    "    df['key'] = df['key'].str.replace(' ', '').str.capitalize()  # Convert key to camel case\n",
    "\n",
    "    # Plot column plots for each question number\n",
    "    for ax, question_num in zip(axes, question_nums):\n",
    "        df = df[df['key'] != 'Line']  # Filter out 'line' ratings\n",
    "        df = df.sort_values(by=['key', 'Group'], ascending=[True, True]) # Sort by 'key' column followed by 'Group' column\n",
    "        \n",
    "        sns.barplot(x=\"key\", y=\"Percentage\", hue=\"Group\", data=df[df['question_num'] == question_num], palette=palette, ax=ax, order=order)\n",
    "        \n",
    "        ax.set_title(f'Question Q{question_num}')\n",
    "\n",
    "        if ax == axes[0]:\n",
    "            ax.set_ylabel('Percentage (%)')\n",
    "        else:\n",
    "            ax.set_ylabel('')\n",
    "\n",
    "        ax.set_xlabel('')\n",
    "        ax.set_xticklabels(ax.get_xticklabels(), rotation=45, ha='right', wrap=True)  # Rotate and wrap x-tick labels\n",
    "        ax.get_legend().remove() \n",
    "\n",
    "    # Create a custom legend\n",
    "    handles, labels = axes[0].get_legend_handles_labels()\n",
    "    for ax in axes[1:]:\n",
    "        h, l = ax.get_legend_handles_labels()\n",
    "        handles += h\n",
    "        labels += l\n",
    "\n",
    "    # Remove duplicates from handles and labels\n",
    "    by_label = dict(zip(labels, handles))\n",
    "    new_labels = [legend_mapping[label] if label in legend_mapping else label for label in by_label.keys()]\n",
    "    new_handles = by_label.values()\n",
    "\n",
    "    # Add custom legend to the plot on the top center\n",
    "    fig.legend(new_handles, new_labels, bbox_to_anchor=(0.42, 1.2), loc='upper center', frameon=False, ncol=3)\n",
    "    # Set font sizes\n",
    "    plt.rc('axes', titlesize=12)     # Title font size\n",
    "    plt.rc('axes', labelsize=12)     # Axis labels font size\n",
    "    plt.rc('xtick', labelsize=10)     # X-tick labels font size\n",
    "    plt.rc('ytick', labelsize=10)     # Y-tick labels font size\n",
    "    plt.rc('legend', fontsize=10)     # Legend font size\n",
    "\n",
    "    # Adjust layout\n",
    "    plt.tight_layout(rect=[0, 0, 0.85, 1])  # Adjust layout to make space for the legend\n",
    "\n",
    "    return fig, axes"
   ]
  },
  {
   "cell_type": "markdown",
   "metadata": {},
   "source": [
    "## 4.1 Figure 3a: Students receive AI hints for Q1"
   ]
  },
  {
   "cell_type": "code",
   "execution_count": 40,
   "metadata": {},
   "outputs": [
    {
     "data": {
      "image/png": "[encoded data removed]",
      "text/plain": [
       "<Figure size 650x250 with 2 Axes>"
      ]
     },
     "metadata": {},
     "output_type": "display_data"
    }
   ],
   "source": [
    "df_q1 = df_expGroups[df_expGroups['question_num'] == 1]\n",
    "\n",
    "fig, axes = boxplot(df_q1, \"timeTaken\", \"Time Taken (minutes)\", 180)\n",
    "fig, axes = boxplot(df_q1, \"numEvaluation\", \"# Attempts\", 60, fig=fig, axes=axes)"
   ]
  },
  {
   "cell_type": "markdown",
   "metadata": {},
   "source": [
    "## 4.2 Figure 3b: Students receive hints through TAs for Q2"
   ]
  },
  {
   "cell_type": "code",
   "execution_count": 41,
   "metadata": {},
   "outputs": [
    {
     "data": {
      "image/png": "[encoded data removed]",
      "text/plain": [
       "<Figure size 650x250 with 2 Axes>"
      ]
     },
     "metadata": {},
     "output_type": "display_data"
    }
   ],
   "source": [
    "df_q2 = df_expGroups[df_expGroups['question_num'] == 2]\n",
    "\n",
    "fig, axes = boxplot(df_q2, \"timeTaken\", \"Time Taken (minutes)\", 180)\n",
    "fig, axes = boxplot(df_q2, \"numEvaluation\", \"# Attempts\", 60, fig=fig, axes=axes)"
   ]
  },
  {
   "cell_type": "markdown",
   "metadata": {},
   "source": [
    "## 4.3 Figure 4: Feedback service time"
   ]
  },
  {
   "cell_type": "code",
   "execution_count": 42,
   "metadata": {},
   "outputs": [
    {
     "data": {
      "image/png": "[encoded data removed]",
      "text/plain": [
       "<Figure size 650x250 with 2 Axes>"
      ]
     },
     "metadata": {},
     "output_type": "display_data"
    }
   ],
   "source": [
    "df_q1 = df_requests[df_requests['question_num'] == 1]\n",
    "df_q2 = df_requests[df_requests['question_num'] == 2]\n",
    "\n",
    "fig, axes = boxplot(df_q1, \"TA Service Time\", \"Service Time (minutes)\", 15)\n",
    "fig, axes = boxplot(df_q2, \"TA Service Time\", \"Service Time (minutes)\", 15, fig=fig, axes=axes)"
   ]
  },
  {
   "cell_type": "markdown",
   "metadata": {},
   "source": [
    "## 4.4 Figure 5: Feedback ratings by students"
   ]
  },
  {
   "cell_type": "code",
   "execution_count": 43,
   "metadata": {},
   "outputs": [
    {
     "data": {
      "image/png": "[encoded data removed]",
      "text/plain": [
       "<Figure size 650x250 with 2 Axes>"
      ]
     },
     "metadata": {},
     "output_type": "display_data"
    }
   ],
   "source": [
    "grouped_df = df_ratings.groupby(['question_num', 'toolName', 'key'])['value'].apply(lambda x: (x.sum() / len(x)) * 100).reset_index()\n",
    "grouped_df.rename(columns={'value': 'Percentage'}, inplace=True)\n",
    "grouped_df['Percentage'] = grouped_df['Percentage'].round(2)\n",
    "\n",
    "fig, axes = colplots(grouped_df, order=['Accurate', 'Helpful', 'Speed']) "
   ]
  },
  {
   "cell_type": "markdown",
   "metadata": {},
   "source": [
    "# 5. Statistical Significance"
   ]
  },
  {
   "cell_type": "code",
   "execution_count": 44,
   "metadata": {},
   "outputs": [],
   "source": [
    "\n",
    "def statisticalAnalysis(df, key):\n",
    "    # ANOVA test \n",
    "    data = pd.DataFrame({\n",
    "        'group': df['toolName'],\n",
    "        'value': df[key]\n",
    "    })\n",
    "    # Remove null values\n",
    "    data = data.dropna()\n",
    "\n",
    "    # Model the data\n",
    "    model = ols('value ~ group', data=data).fit()\n",
    "    if len(data) == 0:\n",
    "        st.warning(\"No data available for analysis.\")\n",
    "        return\n",
    "\n",
    "    # Create eh anova table\n",
    "    anova_table = sm.stats.anova_lm(model, typ=2)\n",
    "    if anova_table.empty:\n",
    "        st.warning(\"ANOVA table is empty. No data to analyze.\")\n",
    "        return\n",
    "\n",
    "    # Eta squared\n",
    "    anova_table['eta_sq'] = anova_table['sum_sq'] / anova_table['sum_sq'].sum()\n",
    "\n",
    "    # Result interpretation\n",
    "    F_statistic = anova_table['F'][0]\n",
    "    p_value = anova_table['PR(>F)'][0]\n",
    "    eta_squared = anova_table['eta_sq'][0]\n",
    "\n",
    "    # Perform Tukey's HSD test \n",
    "    tukey_time = pairwise_tukeyhsd(endog=data['value'], groups=data['group'])\n",
    "\n",
    "    print(f'F-statistic: {F_statistic}, p-value: {p_value}, eta squared: {eta_squared}')\n",
    "    print(tukey_time)"
   ]
  },
  {
   "cell_type": "markdown",
   "metadata": {},
   "source": [
    "## 5.1 Statistical Significance: AI styles"
   ]
  },
  {
   "cell_type": "code",
   "execution_count": 45,
   "metadata": {},
   "outputs": [
    {
     "name": "stdout",
     "output_type": "stream",
     "text": [
      "Time Taken:\n",
      "F-statistic: 7.25787796759958, p-value: 0.0009462978951728704, eta squared: 0.07909814534030957\n",
      "           Multiple Comparison of Means - Tukey HSD, FWER=0.05           \n",
      "=========================================================================\n",
      "   group1           group2        meandiff p-adj   lower    upper  reject\n",
      "-------------------------------------------------------------------------\n",
      " AI-Default           AI-Socrates   5.9244  0.852  -20.042 31.8907  False\n",
      " AI-Default No feedback requested -21.2333 0.0342 -41.1999 -1.2667   True\n",
      "AI-Socrates No feedback requested -27.1577 0.0044 -47.1243 -7.1911   True\n",
      "-------------------------------------------------------------------------\n",
      "\n",
      "\n",
      "Number of Attempts:\n",
      "F-statistic: 16.39950195576926, p-value: 3.095775800735175e-07, eta squared: 0.16253303175825604\n",
      "           Multiple Comparison of Means - Tukey HSD, FWER=0.05           \n",
      "=========================================================================\n",
      "   group1           group2        meandiff p-adj   lower    upper  reject\n",
      "-------------------------------------------------------------------------\n",
      " AI-Default           AI-Socrates   0.5217 0.9745  -5.1727  6.2162  False\n",
      " AI-Default No feedback requested  -7.7905 0.0001 -12.1692 -3.4119   True\n",
      "AI-Socrates No feedback requested  -8.3123    0.0  -12.691 -3.9336   True\n",
      "-------------------------------------------------------------------------\n"
     ]
    }
   ],
   "source": [
    "df_q1 = df_expGroups[df_expGroups['question_num'] == 1]\n",
    "\n",
    "print('Time Taken:')\n",
    "statisticalAnalysis(df_q1, 'timeTaken')\n",
    "\n",
    "print('\\n\\nNumber of Attempts:')\n",
    "statisticalAnalysis(df_q1, 'numEvaluation')"
   ]
  },
  {
   "cell_type": "markdown",
   "metadata": {},
   "source": [
    "## 5.2 Statistical Significance: AI-assisted TAs"
   ]
  },
  {
   "cell_type": "code",
   "execution_count": 46,
   "metadata": {},
   "outputs": [
    {
     "name": "stdout",
     "output_type": "stream",
     "text": [
      "Time Taken:\n",
      "F-statistic: 9.560004385752713, p-value: 7.872557619764067e-06, eta squared: 0.15614117542937928\n",
      "             Multiple Comparison of Means - Tukey HSD, FWER=0.05              \n",
      "==============================================================================\n",
      "        group1             group2      meandiff p-adj   lower    upper  reject\n",
      "------------------------------------------------------------------------------\n",
      "No feedback requested  TA (AI-Default)  45.5914 0.0112   7.7216 83.4612   True\n",
      "No feedback requested TA (AI-Socrates)  38.5752  0.001  12.4822 64.6682   True\n",
      "No feedback requested      TA (Manual)  25.9584   0.03   1.7867 50.1301   True\n",
      "      TA (AI-Default) TA (AI-Socrates)  -7.0162 0.9772 -51.8352 37.8027  False\n",
      "      TA (AI-Default)      TA (Manual)  -19.633 0.6491 -63.3613 24.0953  False\n",
      "     TA (AI-Socrates)      TA (Manual) -12.6168 0.7709 -46.6592 21.4257  False\n",
      "------------------------------------------------------------------------------\n",
      "\n",
      "\n",
      "Number of Attempts:\n",
      "F-statistic: 8.482338849029937, p-value: 2.9745077751371738e-05, eta squared: 0.1410220963140674\n",
      "             Multiple Comparison of Means - Tukey HSD, FWER=0.05              \n",
      "==============================================================================\n",
      "        group1             group2      meandiff p-adj   lower    upper  reject\n",
      "------------------------------------------------------------------------------\n",
      "No feedback requested  TA (AI-Default)  17.3615 0.0008   5.8634 28.8597   True\n",
      "No feedback requested TA (AI-Socrates)   10.307  0.005   2.3846 18.2294   True\n",
      "No feedback requested      TA (Manual)   1.5308 0.9486  -5.8083  8.8698  False\n",
      "      TA (AI-Default) TA (AI-Socrates)  -7.0545 0.5349 -20.6626  6.5535  False\n",
      "      TA (AI-Default)      TA (Manual) -15.8308 0.0123 -29.1076 -2.5539   True\n",
      "     TA (AI-Socrates)      TA (Manual)  -8.7762 0.1264 -19.1123  1.5598  False\n",
      "------------------------------------------------------------------------------\n"
     ]
    }
   ],
   "source": [
    "df_q2 = df_expGroups[df_expGroups['question_num'] == 2]\n",
    "\n",
    "print('Time Taken:')\n",
    "statisticalAnalysis(df_q2, 'timeTaken')\n",
    "\n",
    "print('\\n\\nNumber of Attempts:')\n",
    "statisticalAnalysis(df_q2, 'numEvaluation')"
   ]
  },
  {
   "cell_type": "markdown",
   "metadata": {},
   "source": [
    "## 5.3 Statistical Significance: TA service time"
   ]
  },
  {
   "cell_type": "code",
   "execution_count": 47,
   "metadata": {},
   "outputs": [
    {
     "name": "stdout",
     "output_type": "stream",
     "text": [
      "F-statistic: 68.09179317869867, p-value: 2.236727903159656e-30, eta squared: 0.6871587544682365\n",
      "          Multiple Comparison of Means - Tukey HSD, FWER=0.05           \n",
      "========================================================================\n",
      "     group1           group2      meandiff p-adj   lower   upper  reject\n",
      "------------------------------------------------------------------------\n",
      "      AI-Default      AI-Socrates   0.0479 0.9997 -0.6279  0.7237  False\n",
      "      AI-Default  TA (AI-Default)   2.7507    0.0  1.3346  4.1667   True\n",
      "      AI-Default TA (AI-Socrates)   4.9619    0.0  3.9635  5.9604   True\n",
      "      AI-Default      TA (Manual)   2.7646    0.0  1.8147  3.7145   True\n",
      "     AI-Socrates  TA (AI-Default)   2.7028    0.0  1.2954  4.1101   True\n",
      "     AI-Socrates TA (AI-Socrates)    4.914    0.0  3.9279  5.9001   True\n",
      "     AI-Socrates      TA (Manual)   2.7167    0.0  1.7798  3.6536   True\n",
      " TA (AI-Default) TA (AI-Socrates)   2.2113 0.0017  0.6235   3.799   True\n",
      " TA (AI-Default)      TA (Manual)   0.0139    1.0 -1.5437  1.5716  False\n",
      "TA (AI-Socrates)      TA (Manual)  -2.1973    0.0 -3.3881 -1.0065   True\n",
      "------------------------------------------------------------------------\n"
     ]
    }
   ],
   "source": [
    "statisticalAnalysis(df_requests, 'TA Service Time')"
   ]
  }
 ],
 "metadata": {
  "kernelspec": {
   "display_name": "Python 3",
   "language": "python",
   "name": "python3"
  },
  "language_info": {
   "codemirror_mode": {
    "name": "ipython",
    "version": 3
   },
   "file_extension": ".py",
   "mimetype": "text/x-python",
   "name": "python",
   "nbconvert_exporter": "python",
   "pygments_lexer": "ipython3",
   "version": "3.10.15"
  }
 },
 "nbformat": 4,
 "nbformat_minor": 2
}
